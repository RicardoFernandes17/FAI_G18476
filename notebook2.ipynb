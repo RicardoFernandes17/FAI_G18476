{
 "cells": [
  {
   "cell_type": "code",
   "execution_count": 1,
   "metadata": {},
   "outputs": [
    {
     "name": "stdout",
     "output_type": "stream",
     "text": [
      "Requirement already satisfied: pandas in c:\\users\\rdmf1\\appdata\\local\\programs\\python\\python312\\lib\\site-packages (2.2.3)\n",
      "Requirement already satisfied: scikit-learn in c:\\users\\rdmf1\\appdata\\local\\programs\\python\\python312\\lib\\site-packages (1.6.0)\n",
      "Requirement already satisfied: mlxtend in c:\\users\\rdmf1\\appdata\\local\\programs\\python\\python312\\lib\\site-packages (0.23.3)\n",
      "Requirement already satisfied: matplotlib in c:\\users\\rdmf1\\appdata\\local\\programs\\python\\python312\\lib\\site-packages (3.10.0)\n",
      "Requirement already satisfied: numpy>=1.26.0 in c:\\users\\rdmf1\\appdata\\local\\programs\\python\\python312\\lib\\site-packages (from pandas) (2.2.1)\n",
      "Requirement already satisfied: python-dateutil>=2.8.2 in c:\\users\\rdmf1\\appdata\\roaming\\python\\python312\\site-packages (from pandas) (2.9.0.post0)\n",
      "Requirement already satisfied: pytz>=2020.1 in c:\\users\\rdmf1\\appdata\\local\\programs\\python\\python312\\lib\\site-packages (from pandas) (2024.2)\n",
      "Requirement already satisfied: tzdata>=2022.7 in c:\\users\\rdmf1\\appdata\\local\\programs\\python\\python312\\lib\\site-packages (from pandas) (2024.2)\n",
      "Requirement already satisfied: scipy>=1.6.0 in c:\\users\\rdmf1\\appdata\\local\\programs\\python\\python312\\lib\\site-packages (from scikit-learn) (1.15.0)\n",
      "Requirement already satisfied: joblib>=1.2.0 in c:\\users\\rdmf1\\appdata\\local\\programs\\python\\python312\\lib\\site-packages (from scikit-learn) (1.4.2)\n",
      "Requirement already satisfied: threadpoolctl>=3.1.0 in c:\\users\\rdmf1\\appdata\\local\\programs\\python\\python312\\lib\\site-packages (from scikit-learn) (3.5.0)\n",
      "Requirement already satisfied: contourpy>=1.0.1 in c:\\users\\rdmf1\\appdata\\local\\programs\\python\\python312\\lib\\site-packages (from matplotlib) (1.3.1)\n",
      "Requirement already satisfied: cycler>=0.10 in c:\\users\\rdmf1\\appdata\\local\\programs\\python\\python312\\lib\\site-packages (from matplotlib) (0.12.1)\n",
      "Requirement already satisfied: fonttools>=4.22.0 in c:\\users\\rdmf1\\appdata\\local\\programs\\python\\python312\\lib\\site-packages (from matplotlib) (4.55.3)\n",
      "Requirement already satisfied: kiwisolver>=1.3.1 in c:\\users\\rdmf1\\appdata\\local\\programs\\python\\python312\\lib\\site-packages (from matplotlib) (1.4.8)\n",
      "Requirement already satisfied: packaging>=20.0 in c:\\users\\rdmf1\\appdata\\roaming\\python\\python312\\site-packages (from matplotlib) (24.0)\n",
      "Requirement already satisfied: pillow>=8 in c:\\users\\rdmf1\\appdata\\local\\programs\\python\\python312\\lib\\site-packages (from matplotlib) (11.1.0)\n",
      "Requirement already satisfied: pyparsing>=2.3.1 in c:\\users\\rdmf1\\appdata\\local\\programs\\python\\python312\\lib\\site-packages (from matplotlib) (3.2.1)\n",
      "Requirement already satisfied: six>=1.5 in c:\\users\\rdmf1\\appdata\\roaming\\python\\python312\\site-packages (from python-dateutil>=2.8.2->pandas) (1.16.0)\n",
      "Note: you may need to restart the kernel to use updated packages.\n"
     ]
    },
    {
     "name": "stderr",
     "output_type": "stream",
     "text": [
      "\n",
      "[notice] A new release of pip is available: 24.0 -> 24.3.1\n",
      "[notice] To update, run: python.exe -m pip install --upgrade pip\n"
     ]
    }
   ],
   "source": [
    "%pip install pandas scikit-learn mlxtend matplotlib"
   ]
  },
  {
   "cell_type": "code",
   "execution_count": 2,
   "metadata": {},
   "outputs": [],
   "source": [
    "import pandas as pd\n",
    "from mlxtend.frequent_patterns import apriori, association_rules\n",
    "from scipy.sparse import csr_matrix\n",
    "\n",
    "# Load the dataset\n",
    "file_path = 'world_tourism_economy_data.csv'  # Replace with the actual path\n",
    "tourism_data = pd.read_csv(file_path)\n",
    "\n",
    "# european_country_codes = [\n",
    "#     'ALB', 'AND', 'ARM', 'AUT', \n",
    "#     'BEL', 'BGR', 'BIH',\n",
    "#      'BLR', 'BUL', 'CHE', \n",
    "#     'CYP', 'CZE', 'DEU', 'DNK', 'EST', 'FIN', 'FRA', 'GEO', 'GRC', 'HRV', \n",
    "#     'HUN', 'IRL', 'ISL', 'ISR', 'ITA', 'KOS', 'LTU', 'LUX', 'LVA', 'MDA', \n",
    "#     'MNE', \n",
    "#     'NLD', \n",
    "#     'NOR', \n",
    "#     'POL', 'PRT', 'ROU', 'RUS', 'SVK', 'SVN', 'ESP', \n",
    "#     'SWE', 'TUR', 'UKR', 'GBR'\n",
    "# ]\n",
    "european_union_country_codes = [\n",
    "    'AUT', 'BEL', 'BGR', 'CYP', 'CZE', 'DEU', 'DNK', 'EST', 'FIN', 'FRA', \n",
    "    'GRC', 'HRV', 'HUN', 'IRL', 'ITA', 'LTU', 'LUX', 'LVA', 'POL', 'PRT', \n",
    "    'ROU', 'SVK', 'SVN', 'ESP', 'SWE'\n",
    "]\n",
    "tourism_data = tourism_data[tourism_data['country_code'].isin(european_union_country_codes)]\n",
    "\n",
    "\n",
    "# Calculate Tourism GDP Percentage and High Tourism Impact\n",
    "tourism_data['Tourism_GDP_Percentage'] = (tourism_data['tourism_receipts'] / tourism_data['gdp']) * 100\n",
    "tourism_threshold = 5  # Adjust threshold as needed\n",
    "tourism_data['High_Tourism_Impact'] = tourism_data['Tourism_GDP_Percentage'] > tourism_threshold\n",
    "\n",
    "# Clean the data\n",
    "tourism_data = tourism_data.dropna(subset=['High_Tourism_Impact'])\n",
    "\n",
    "\n",
    "\n"
   ]
  },
  {
   "cell_type": "markdown",
   "metadata": {},
   "source": []
  },
  {
   "cell_type": "code",
   "execution_count": 3,
   "metadata": {},
   "outputs": [
    {
     "name": "stdout",
     "output_type": "stream",
     "text": [
      "Countries with High Tourism Impact: ['AUT' 'BGR' 'CYP' 'EST' 'GRC' 'HRV' 'HUN' 'LTU' 'PRT' 'SVN' 'LUX']\n"
     ]
    }
   ],
   "source": [
    "# List unique countries with 'High_Tourism_Impact'\n",
    "countries_with_high_impact = tourism_data[tourism_data['High_Tourism_Impact']]['country_code'].unique()\n",
    "print(f\"Countries with High Tourism Impact: {countries_with_high_impact}\")"
   ]
  },
  {
   "cell_type": "code",
   "execution_count": 6,
   "metadata": {},
   "outputs": [
    {
     "name": "stdout",
     "output_type": "stream",
     "text": [
      "     support                                  itemsets\n",
      "0       0.48                                     (AUT)\n",
      "1       0.84                                     (BGR)\n",
      "2       0.84                                     (CYP)\n",
      "3       0.68                                     (EST)\n",
      "4       0.72                                     (GRC)\n",
      "..       ...                                       ...\n",
      "546     0.36       (PRT, EST, HRV, SVN, GRC, BGR, LUX)\n",
      "547     0.32       (PRT, EST, HRV, SVN, HUN, GRC, CYP)\n",
      "548     0.36       (PRT, EST, HRV, SVN, GRC, LUX, CYP)\n",
      "549     0.32  (PRT, EST, HRV, SVN, HUN, GRC, BGR, CYP)\n",
      "550     0.36  (PRT, EST, HRV, SVN, GRC, BGR, LUX, CYP)\n",
      "\n",
      "[551 rows x 2 columns]\n"
     ]
    },
    {
     "name": "stderr",
     "output_type": "stream",
     "text": [
      "C:\\Users\\rdmf1\\AppData\\Local\\Temp\\ipykernel_7184\\2068045716.py:6: FutureWarning: DataFrame.applymap has been deprecated. Use DataFrame.map instead.\n",
      "  ds_pivot = ds_pivot.applymap(lambda x: bool(x))\n"
     ]
    }
   ],
   "source": [
    "# Group the data by 'country_code' and 'year', and pivot\n",
    "ds_grouped = tourism_data.groupby(['country_code', 'year'], as_index=False).agg({'High_Tourism_Impact': 'any'})\n",
    "ds_pivot = ds_grouped.pivot(index='year', columns='country_code', values='High_Tourism_Impact').fillna(False)\n",
    "\n",
    "# Ensure the pivoted table is Boolean\n",
    "ds_pivot = ds_pivot.applymap(lambda x: bool(x))\n",
    "\n",
    "# Run apriori on the pivoted data\n",
    "min_support = 0.5\n",
    "\n",
    "freq_itemsets = apriori(ds_pivot, min_support=min_support, use_colnames=True)\n",
    "\n",
    "# If no error occurs, print confirmation\n",
    "print(freq_itemsets)\n"
   ]
  },
  {
   "cell_type": "code",
   "execution_count": null,
   "metadata": {},
   "outputs": [
    {
     "name": "stdout",
     "output_type": "stream",
     "text": [
      "Top 10 rules by confidence:\n",
      "                    antecedents      consequents  antecedent support  \\\n",
      "4927  (PRT, EST, GRC, LUX, CYP)  (HRV, BGR, SVN)                0.36   \n",
      "4925  (PRT, EST, GRC, BGR, LUX)  (HRV, CYP, SVN)                0.36   \n",
      "4921  (PRT, SVN, EST, GRC, LUX)  (HRV, BGR, CYP)                0.36   \n",
      "4916  (PRT, EST, HRV, GRC, LUX)  (BGR, CYP, SVN)                0.36   \n",
      "30                        (SVN)            (CYP)                0.72   \n",
      "28                        (PRT)            (CYP)                0.64   \n",
      "25                        (HUN)            (CYP)                0.48   \n",
      "24                        (CYP)            (HRV)                0.84   \n",
      "22                        (GRC)            (CYP)                0.72   \n",
      "20                        (EST)            (CYP)                0.68   \n",
      "\n",
      "      consequent support  support  confidence      lift  representativity  \\\n",
      "4927                0.72     0.36         1.0  1.388889               1.0   \n",
      "4925                0.72     0.36         1.0  1.388889               1.0   \n",
      "4921                0.84     0.36         1.0  1.190476               1.0   \n",
      "4916                0.72     0.36         1.0  1.388889               1.0   \n",
      "30                  0.84     0.72         1.0  1.190476               1.0   \n",
      "28                  0.84     0.64         1.0  1.190476               1.0   \n",
      "25                  0.84     0.48         1.0  1.190476               1.0   \n",
      "24                  0.88     0.84         1.0  1.136364               1.0   \n",
      "22                  0.84     0.72         1.0  1.190476               1.0   \n",
      "20                  0.84     0.68         1.0  1.190476               1.0   \n",
      "\n",
      "      leverage  conviction  zhangs_metric   jaccard  certainty  kulczynski  \n",
      "4927    0.1008         inf       0.437500  0.500000        1.0    0.750000  \n",
      "4925    0.1008         inf       0.437500  0.500000        1.0    0.750000  \n",
      "4921    0.0576         inf       0.250000  0.428571        1.0    0.714286  \n",
      "4916    0.1008         inf       0.437500  0.500000        1.0    0.750000  \n",
      "30      0.1152         inf       0.571429  0.857143        1.0    0.928571  \n",
      "28      0.1024         inf       0.444444  0.761905        1.0    0.880952  \n",
      "25      0.0768         inf       0.307692  0.571429        1.0    0.785714  \n",
      "24      0.1008         inf       0.750000  0.954545        1.0    0.977273  \n",
      "22      0.1152         inf       0.571429  0.857143        1.0    0.928571  \n",
      "20      0.1088         inf       0.500000  0.809524        1.0    0.904762  \n"
     ]
    }
   ],
   "source": [
    "\n",
    "# Number of itemsets\n",
    "num_itemsets = len(freq_itemsets)\n",
    "\n",
    "# Generate association rules\n",
    "rules = association_rules(freq_itemsets, metric=\"confidence\", min_threshold=1, num_itemsets=num_itemsets)\n",
    "rules = rules.sort_values(by='confidence', ascending=False)\n",
    "\n",
    "# Display the top 10 rules\n",
    "print(\"Top 10 rules by confidence:\")\n",
    "print(rules.head(10))\n"
   ]
  },
  {
   "cell_type": "code",
   "execution_count": 23,
   "metadata": {},
   "outputs": [
    {
     "name": "stdout",
     "output_type": "stream",
     "text": [
      "Countries where the writen code is an antecedent: ['SVN', 'HRV', 'EST', 'GRC', 'BGR', 'LUX', 'CYP']\n"
     ]
    }
   ],
   "source": [
    "def get_rules_where_country_is_antecedent(rules, code):\n",
    "    # Filter the rules where Portugal (PRT) is in the antecedents\n",
    "    c_rules = rules[rules['antecedents'].apply(lambda x: code in x)]\n",
    "    \n",
    "    # Extract the consequents of these rules\n",
    "    c_consequents = c_rules['consequents']\n",
    "    \n",
    "    # Flatten the list of consequents and get unique countries\n",
    "    consequent_countries = set()\n",
    "    for consequent in c_consequents:\n",
    "        consequent_countries.update(consequent)  # Adds all countries in the consequent\n",
    "    \n",
    "    # Return the list of unique countries\n",
    "    return list(consequent_countries)\n",
    "\n",
    "# Call the function with the `rules` DataFrame\n",
    "countries_with_antecedent = get_rules_where_country_is_antecedent(rules, 'PRT')\n",
    "\n",
    "# Print the result\n",
    "print(\"Countries where the writen code is an antecedent:\", countries_with_antecedent)\n"
   ]
  }
 ],
 "metadata": {
  "kernelspec": {
   "display_name": "Python 3",
   "language": "python",
   "name": "python3"
  },
  "language_info": {
   "codemirror_mode": {
    "name": "ipython",
    "version": 3
   },
   "file_extension": ".py",
   "mimetype": "text/x-python",
   "name": "python",
   "nbconvert_exporter": "python",
   "pygments_lexer": "ipython3",
   "version": "3.12.2"
  }
 },
 "nbformat": 4,
 "nbformat_minor": 2
}
