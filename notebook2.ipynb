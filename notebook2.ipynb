{
 "cells": [
  {
   "cell_type": "code",
   "execution_count": 1,
   "metadata": {},
   "outputs": [
    {
     "name": "stdout",
     "output_type": "stream",
     "text": [
      "Requirement already satisfied: pandas in c:\\users\\rdmf1\\appdata\\local\\programs\\python\\python312\\lib\\site-packages (2.2.3)\n",
      "Requirement already satisfied: scikit-learn in c:\\users\\rdmf1\\appdata\\local\\programs\\python\\python312\\lib\\site-packages (1.6.0)\n",
      "Requirement already satisfied: mlxtend in c:\\users\\rdmf1\\appdata\\local\\programs\\python\\python312\\lib\\site-packages (0.23.3)\n",
      "Requirement already satisfied: matplotlib in c:\\users\\rdmf1\\appdata\\local\\programs\\python\\python312\\lib\\site-packages (3.10.0)\n",
      "Requirement already satisfied: numpy>=1.26.0 in c:\\users\\rdmf1\\appdata\\local\\programs\\python\\python312\\lib\\site-packages (from pandas) (2.2.1)\n",
      "Requirement already satisfied: python-dateutil>=2.8.2 in c:\\users\\rdmf1\\appdata\\roaming\\python\\python312\\site-packages (from pandas) (2.9.0.post0)\n",
      "Requirement already satisfied: pytz>=2020.1 in c:\\users\\rdmf1\\appdata\\local\\programs\\python\\python312\\lib\\site-packages (from pandas) (2024.2)\n",
      "Requirement already satisfied: tzdata>=2022.7 in c:\\users\\rdmf1\\appdata\\local\\programs\\python\\python312\\lib\\site-packages (from pandas) (2024.2)\n",
      "Requirement already satisfied: scipy>=1.6.0 in c:\\users\\rdmf1\\appdata\\local\\programs\\python\\python312\\lib\\site-packages (from scikit-learn) (1.15.0)\n",
      "Requirement already satisfied: joblib>=1.2.0 in c:\\users\\rdmf1\\appdata\\local\\programs\\python\\python312\\lib\\site-packages (from scikit-learn) (1.4.2)\n",
      "Requirement already satisfied: threadpoolctl>=3.1.0 in c:\\users\\rdmf1\\appdata\\local\\programs\\python\\python312\\lib\\site-packages (from scikit-learn) (3.5.0)\n",
      "Requirement already satisfied: contourpy>=1.0.1 in c:\\users\\rdmf1\\appdata\\local\\programs\\python\\python312\\lib\\site-packages (from matplotlib) (1.3.1)\n",
      "Requirement already satisfied: cycler>=0.10 in c:\\users\\rdmf1\\appdata\\local\\programs\\python\\python312\\lib\\site-packages (from matplotlib) (0.12.1)\n",
      "Requirement already satisfied: fonttools>=4.22.0 in c:\\users\\rdmf1\\appdata\\local\\programs\\python\\python312\\lib\\site-packages (from matplotlib) (4.55.3)\n",
      "Requirement already satisfied: kiwisolver>=1.3.1 in c:\\users\\rdmf1\\appdata\\local\\programs\\python\\python312\\lib\\site-packages (from matplotlib) (1.4.8)\n",
      "Requirement already satisfied: packaging>=20.0 in c:\\users\\rdmf1\\appdata\\roaming\\python\\python312\\site-packages (from matplotlib) (24.0)\n",
      "Requirement already satisfied: pillow>=8 in c:\\users\\rdmf1\\appdata\\local\\programs\\python\\python312\\lib\\site-packages (from matplotlib) (11.1.0)\n",
      "Requirement already satisfied: pyparsing>=2.3.1 in c:\\users\\rdmf1\\appdata\\local\\programs\\python\\python312\\lib\\site-packages (from matplotlib) (3.2.1)\n",
      "Requirement already satisfied: six>=1.5 in c:\\users\\rdmf1\\appdata\\roaming\\python\\python312\\site-packages (from python-dateutil>=2.8.2->pandas) (1.16.0)\n",
      "Note: you may need to restart the kernel to use updated packages.\n"
     ]
    },
    {
     "name": "stderr",
     "output_type": "stream",
     "text": [
      "\n",
      "[notice] A new release of pip is available: 24.0 -> 24.3.1\n",
      "[notice] To update, run: python.exe -m pip install --upgrade pip\n"
     ]
    }
   ],
   "source": [
    "%pip install pandas scikit-learn mlxtend matplotlib"
   ]
  },
  {
   "cell_type": "code",
   "execution_count": 2,
   "metadata": {},
   "outputs": [],
   "source": [
    "import pandas as pd\n",
    "from mlxtend.frequent_patterns import apriori, association_rules\n",
    "\n",
    "# Load the dataset\n",
    "file_path = 'world_tourism_economy_data.csv'  # Replace with the actual path\n",
    "tourism_data = pd.read_csv(file_path)\n",
    "\n",
    "# european_country_codes = [\n",
    "#     'ALB', 'AND', 'ARM', 'AUT', \n",
    "#     'BEL', 'BGR', 'BIH',\n",
    "#      'BLR', 'BUL', 'CHE', \n",
    "#     'CYP', 'CZE', 'DEU', 'DNK', 'EST', 'FIN', 'FRA', 'GEO', 'GRC', 'HRV', \n",
    "#     'HUN', 'IRL', 'ISL', 'ISR', 'ITA', 'KOS', 'LTU', 'LUX', 'LVA', 'MDA', \n",
    "#     'MNE', \n",
    "#     'NLD', \n",
    "#     'NOR', \n",
    "#     'POL', 'PRT', 'ROU', 'RUS', 'SVK', 'SVN', 'ESP', \n",
    "#     'SWE', 'TUR', 'UKR', 'GBR'\n",
    "# ]\n",
    "european_union_country_codes = [\n",
    "    'AUT', 'BEL', 'BGR', 'CYP', 'CZE', 'DEU', 'DNK', 'EST', 'FIN', 'FRA', \n",
    "    'GRC', 'HRV', 'HUN', 'IRL', 'ITA', 'LTU', 'LUX', 'LVA', 'POL', 'PRT', \n",
    "    'ROU', 'SVK', 'SVN', 'ESP', 'SWE'\n",
    "]\n",
    "tourism_data = tourism_data[tourism_data['country_code'].isin(european_union_country_codes)]\n",
    "\n",
    "\n",
    "# Calculate Tourism GDP Percentage and High Tourism Impact\n",
    "tourism_data['Tourism_GDP_Percentage'] = (tourism_data['tourism_receipts'] / tourism_data['gdp']) * 100\n",
    "tourism_threshold = 5  # Adjust threshold as needed\n",
    "tourism_data['High_Tourism_Impact'] = tourism_data['Tourism_GDP_Percentage'] > tourism_threshold\n",
    "\n",
    "# Clean the data\n",
    "tourism_data = tourism_data.dropna(subset=['High_Tourism_Impact'])\n"
   ]
  },
  {
   "cell_type": "markdown",
   "metadata": {},
   "source": []
  },
  {
   "cell_type": "code",
   "execution_count": 3,
   "metadata": {},
   "outputs": [
    {
     "name": "stdout",
     "output_type": "stream",
     "text": [
      "Countries with High Tourism Impact: ['AUT' 'BGR' 'CYP' 'EST' 'GRC' 'HRV' 'HUN' 'LTU' 'PRT' 'SVN' 'LUX']\n"
     ]
    }
   ],
   "source": [
    "# List unique countries with 'High_Tourism_Impact'\n",
    "countries_with_high_impact = tourism_data[tourism_data['High_Tourism_Impact']]['country_code'].unique()\n",
    "print(f\"Countries with High Tourism Impact: {countries_with_high_impact}\")"
   ]
  },
  {
   "cell_type": "code",
   "execution_count": 4,
   "metadata": {},
   "outputs": [
    {
     "name": "stdout",
     "output_type": "stream",
     "text": [
      "     support                        itemsets\n",
      "0       0.84                           (BGR)\n",
      "1       0.84                           (CYP)\n",
      "2       0.68                           (EST)\n",
      "3       0.72                           (GRC)\n",
      "4       0.88                           (HRV)\n",
      "..       ...                             ...\n",
      "154     0.52  (LUX, HRV, BGR, EST, GRC, CYP)\n",
      "155     0.52  (HRV, BGR, EST, SVN, GRC, CYP)\n",
      "156     0.52  (LUX, HRV, BGR, SVN, GRC, CYP)\n",
      "157     0.52  (HRV, BGR, SVN, GRC, CYP, PRT)\n",
      "158     0.56  (LUX, HRV, BGR, SVN, CYP, PRT)\n",
      "\n",
      "[159 rows x 2 columns]\n"
     ]
    },
    {
     "name": "stderr",
     "output_type": "stream",
     "text": [
      "C:\\Users\\rdmf1\\AppData\\Local\\Temp\\ipykernel_24884\\3329657253.py:6: FutureWarning: DataFrame.applymap has been deprecated. Use DataFrame.map instead.\n",
      "  ds_pivot = ds_pivot.applymap(lambda x: bool(x))\n"
     ]
    }
   ],
   "source": [
    "# Group the data by 'country_code' and 'year', and pivot\n",
    "ds_grouped = tourism_data.groupby(['country_code', 'year'], as_index=False).agg({'High_Tourism_Impact': 'any'})\n",
    "ds_pivot = ds_grouped.pivot(index='year', columns='country_code', values='High_Tourism_Impact').fillna(False)\n",
    "\n",
    "# Ensure the pivoted table is Boolean\n",
    "ds_pivot = ds_pivot.applymap(lambda x: bool(x))\n",
    "\n",
    "# Run apriori on the pivoted data\n",
    "min_support = 0.5\n",
    "\n",
    "freq_itemsets = apriori(ds_pivot, min_support=min_support, use_colnames=True)\n",
    "\n",
    "# If no error occurs, print confirmation\n",
    "print(freq_itemsets)\n"
   ]
  },
  {
   "cell_type": "code",
   "execution_count": 5,
   "metadata": {},
   "outputs": [
    {
     "name": "stdout",
     "output_type": "stream",
     "text": [
      "Top 10 rules by confidence:\n",
      "    antecedents           consequents  antecedent support  consequent support  \\\n",
      "441  (LUX, PRT)  (BGR, HRV, SVN, CYP)                0.56                0.72   \n",
      "0         (BGR)                 (CYP)                0.84                0.84   \n",
      "1         (CYP)                 (BGR)                0.84                0.84   \n",
      "2         (EST)                 (BGR)                0.68                0.84   \n",
      "3         (GRC)                 (BGR)                0.72                0.84   \n",
      "4         (BGR)                 (HRV)                0.84                0.88   \n",
      "5         (PRT)                 (BGR)                0.64                0.84   \n",
      "6         (SVN)                 (BGR)                0.72                0.84   \n",
      "7         (EST)                 (CYP)                0.68                0.84   \n",
      "8         (GRC)                 (CYP)                0.72                0.84   \n",
      "\n",
      "     support  confidence      lift  representativity  leverage  conviction  \\\n",
      "441     0.56         1.0  1.388889               1.0    0.1568         inf   \n",
      "0       0.84         1.0  1.190476               1.0    0.1344         inf   \n",
      "1       0.84         1.0  1.190476               1.0    0.1344         inf   \n",
      "2       0.68         1.0  1.190476               1.0    0.1088         inf   \n",
      "3       0.72         1.0  1.190476               1.0    0.1152         inf   \n",
      "4       0.84         1.0  1.136364               1.0    0.1008         inf   \n",
      "5       0.64         1.0  1.190476               1.0    0.1024         inf   \n",
      "6       0.72         1.0  1.190476               1.0    0.1152         inf   \n",
      "7       0.68         1.0  1.190476               1.0    0.1088         inf   \n",
      "8       0.72         1.0  1.190476               1.0    0.1152         inf   \n",
      "\n",
      "     zhangs_metric   jaccard  certainty  kulczynski  \n",
      "441       0.636364  0.777778        1.0    0.888889  \n",
      "0         1.000000  1.000000        1.0    1.000000  \n",
      "1         1.000000  1.000000        1.0    1.000000  \n",
      "2         0.500000  0.809524        1.0    0.904762  \n",
      "3         0.571429  0.857143        1.0    0.928571  \n",
      "4         0.750000  0.954545        1.0    0.977273  \n",
      "5         0.444444  0.761905        1.0    0.880952  \n",
      "6         0.571429  0.857143        1.0    0.928571  \n",
      "7         0.500000  0.809524        1.0    0.904762  \n",
      "8         0.571429  0.857143        1.0    0.928571  \n"
     ]
    }
   ],
   "source": [
    "\n",
    "# Number of itemsets\n",
    "num_itemsets = len(freq_itemsets)\n",
    "\n",
    "# Generate association rules\n",
    "rules = association_rules(freq_itemsets, metric=\"confidence\", min_threshold=1, num_itemsets=num_itemsets)\n",
    "rules = rules.sort_values(by='confidence', ascending=False)\n",
    "\n",
    "# Display the top 10 rules\n",
    "print(\"Top 10 rules by confidence:\")\n",
    "print(rules.head(10))\n"
   ]
  },
  {
   "cell_type": "code",
   "execution_count": 7,
   "metadata": {},
   "outputs": [
    {
     "name": "stdout",
     "output_type": "stream",
     "text": [
      "Countries where the writen code is an antecedent: ['HRV', 'CYP', 'BGR', 'SVN']\n"
     ]
    }
   ],
   "source": [
    "def get_rules_where_country_is_antecedent(rules, code):\n",
    "    # Filter the rules where Portugal (PRT) is in the antecedents\n",
    "    c_rules = rules[rules['antecedents'].apply(lambda x: code in x)]\n",
    "    \n",
    "    # Extract the consequents of these rules\n",
    "    c_consequents = c_rules['consequents']\n",
    "    \n",
    "    # Flatten the list of consequents and get unique countries\n",
    "    consequent_countries = set()\n",
    "    for consequent in c_consequents:\n",
    "        consequent_countries.update(consequent)  # Adds all countries in the consequent\n",
    "    \n",
    "    # Return the list of unique countries\n",
    "    return list(consequent_countries)\n",
    "\n",
    "# Call the function with the `rules` DataFrame\n",
    "countries_with_antecedent = get_rules_where_country_is_antecedent(rules, 'PRT')\n",
    "\n",
    "# Print the result\n",
    "print(\"Countries where the writen code is an antecedent:\", countries_with_antecedent)\n"
   ]
  }
 ],
 "metadata": {
  "kernelspec": {
   "display_name": "Python 3",
   "language": "python",
   "name": "python3"
  },
  "language_info": {
   "codemirror_mode": {
    "name": "ipython",
    "version": 3
   },
   "file_extension": ".py",
   "mimetype": "text/x-python",
   "name": "python",
   "nbconvert_exporter": "python",
   "pygments_lexer": "ipython3",
   "version": "3.12.2"
  }
 },
 "nbformat": 4,
 "nbformat_minor": 2
}
