{
 "cells": [
  {
   "cell_type": "markdown",
   "metadata": {},
   "source": [
    "# Project 2\n",
    "## Introduction\n",
    "This notebook project tourism data for European Union countries to identify frequent patterns and association rules. It includes data filtering, transformation, and the application of the Apriori algorithm to uncover insights into high tourism impact countries.\n",
    "\n",
    "## Dataset\n",
    "The dataset contains information from 1999 to 2023 from multiple countries about key tourism factors.\n",
    "\n",
    "File Path: world_tourism_economy_data.csv\n",
    "Shape: Printed at runtime to verify the dimensions of the data."
   ]
  },
  {
   "cell_type": "code",
   "execution_count": 1,
   "metadata": {},
   "outputs": [
    {
     "name": "stdout",
     "output_type": "stream",
     "text": [
      "\u001b[33mDEPRECATION: Loading egg at /opt/homebrew/lib/python3.11/site-packages/jupyter-1.0.0-py3.11.egg is deprecated. pip 24.3 will enforce this behaviour change. A possible replacement is to use pip for package installation.. Discussion can be found at https://github.com/pypa/pip/issues/12330\u001b[0m\u001b[33m\n",
      "\u001b[0mRequirement already satisfied: pandas in /opt/homebrew/lib/python3.11/site-packages (2.1.4)\n",
      "Requirement already satisfied: scikit-learn in /opt/homebrew/lib/python3.11/site-packages (1.3.2)\n",
      "Requirement already satisfied: mlxtend in /opt/homebrew/lib/python3.11/site-packages (0.23.1)\n",
      "Requirement already satisfied: matplotlib in /opt/homebrew/lib/python3.11/site-packages (3.8.2)\n",
      "Requirement already satisfied: numpy<2,>=1.23.2 in /opt/homebrew/lib/python3.11/site-packages (from pandas) (1.24.3)\n",
      "Requirement already satisfied: python-dateutil>=2.8.2 in /Users/ricardofernandes/Library/Python/3.11/lib/python/site-packages (from pandas) (2.8.2)\n",
      "Requirement already satisfied: pytz>=2020.1 in /opt/homebrew/lib/python3.11/site-packages (from pandas) (2023.3.post1)\n",
      "Requirement already satisfied: tzdata>=2022.1 in /opt/homebrew/lib/python3.11/site-packages (from pandas) (2023.4)\n",
      "Requirement already satisfied: scipy>=1.5.0 in /opt/homebrew/lib/python3.11/site-packages (from scikit-learn) (1.11.4)\n",
      "Requirement already satisfied: joblib>=1.1.1 in /opt/homebrew/lib/python3.11/site-packages (from scikit-learn) (1.3.2)\n",
      "Requirement already satisfied: threadpoolctl>=2.0.0 in /opt/homebrew/lib/python3.11/site-packages (from scikit-learn) (3.2.0)\n",
      "Requirement already satisfied: contourpy>=1.0.1 in /opt/homebrew/lib/python3.11/site-packages (from matplotlib) (1.2.0)\n",
      "Requirement already satisfied: cycler>=0.10 in /opt/homebrew/lib/python3.11/site-packages (from matplotlib) (0.12.1)\n",
      "Requirement already satisfied: fonttools>=4.22.0 in /opt/homebrew/lib/python3.11/site-packages (from matplotlib) (4.47.0)\n",
      "Requirement already satisfied: kiwisolver>=1.3.1 in /opt/homebrew/lib/python3.11/site-packages (from matplotlib) (1.4.5)\n",
      "Requirement already satisfied: packaging>=20.0 in /Users/ricardofernandes/Library/Python/3.11/lib/python/site-packages (from matplotlib) (23.2)\n",
      "Requirement already satisfied: pillow>=8 in /opt/homebrew/lib/python3.11/site-packages (from matplotlib) (10.2.0)\n",
      "Requirement already satisfied: pyparsing>=2.3.1 in /opt/homebrew/lib/python3.11/site-packages (from matplotlib) (3.1.1)\n",
      "Requirement already satisfied: six>=1.5 in /Users/ricardofernandes/Library/Python/3.11/lib/python/site-packages (from python-dateutil>=2.8.2->pandas) (1.16.0)\n",
      "\n",
      "\u001b[1m[\u001b[0m\u001b[34;49mnotice\u001b[0m\u001b[1;39;49m]\u001b[0m\u001b[39;49m A new release of pip is available: \u001b[0m\u001b[31;49m23.3.2\u001b[0m\u001b[39;49m -> \u001b[0m\u001b[32;49m24.3.1\u001b[0m\n",
      "\u001b[1m[\u001b[0m\u001b[34;49mnotice\u001b[0m\u001b[1;39;49m]\u001b[0m\u001b[39;49m To update, run: \u001b[0m\u001b[32;49mpython3.11 -m pip install --upgrade pip\u001b[0m\n",
      "Note: you may need to restart the kernel to use updated packages.\n"
     ]
    }
   ],
   "source": [
    "%pip install pandas scikit-learn mlxtend matplotlib"
   ]
  },
  {
   "cell_type": "markdown",
   "metadata": {},
   "source": [
    "## 1. Import Libraries\n",
    "We begin by importing the necessary libraries for data manipulation and association rule mining."
   ]
  },
  {
   "cell_type": "code",
   "execution_count": 2,
   "metadata": {},
   "outputs": [],
   "source": [
    "import pandas as pd\n",
    "from mlxtend.frequent_patterns import apriori, association_rules"
   ]
  },
  {
   "cell_type": "markdown",
   "metadata": {},
   "source": [
    "## 2. Load the Dataset\n",
    "Load the dataset containing global tourism economy data. Ensure the file is located at the specified path."
   ]
  },
  {
   "cell_type": "code",
   "execution_count": 3,
   "metadata": {},
   "outputs": [
    {
     "name": "stderr",
     "output_type": "stream",
     "text": [
      "/Users/ricardofernandes/Library/Python/3.11/lib/python/site-packages/ipykernel/ipkernel.py:283: DeprecationWarning: `should_run_async` will not call `transform_cell` automatically in the future. Please pass the result to `transformed_cell` argument and any exception that happen during thetransform in `preprocessing_exc_tuple` in IPython 7.17 and above.\n",
      "  and should_run_async(code)\n"
     ]
    }
   ],
   "source": [
    "# Load the dataset\n",
    "file_path = 'world_tourism_economy_data.csv'\n",
    "tourism_data = pd.read_csv(file_path)"
   ]
  },
  {
   "cell_type": "markdown",
   "metadata": {},
   "source": [
    "## 3. Data Preparation\n",
    "### Filter Data for European Union Countries\n",
    "Here, we select only the countries that are part of the European Union using their country codes."
   ]
  },
  {
   "cell_type": "code",
   "execution_count": 4,
   "metadata": {},
   "outputs": [
    {
     "name": "stderr",
     "output_type": "stream",
     "text": [
      "/Users/ricardofernandes/Library/Python/3.11/lib/python/site-packages/ipykernel/ipkernel.py:283: DeprecationWarning: `should_run_async` will not call `transform_cell` automatically in the future. Please pass the result to `transformed_cell` argument and any exception that happen during thetransform in `preprocessing_exc_tuple` in IPython 7.17 and above.\n",
      "  and should_run_async(code)\n"
     ]
    }
   ],
   "source": [
    "# european_country_codes = [\n",
    "#     'ALB', 'AND', 'ARM', 'AUT', \n",
    "#     'BEL', 'BGR', 'BIH',\n",
    "#      'BLR', 'BUL', 'CHE', \n",
    "#     'CYP', 'CZE', 'DEU', 'DNK', 'EST', 'FIN', 'FRA', 'GEO', 'GRC', 'HRV', \n",
    "#     'HUN', 'IRL', 'ISL', 'ISR', 'ITA', 'KOS', 'LTU', 'LUX', 'LVA', 'MDA', \n",
    "#     'MNE', \n",
    "#     'NLD', \n",
    "#     'NOR', \n",
    "#     'POL', 'PRT', 'ROU', 'RUS', 'SVK', 'SVN', 'ESP', \n",
    "#     'SWE', 'TUR', 'UKR', 'GBR'\n",
    "# ]\n",
    "european_union_country_codes = [\n",
    "    'AUT', 'BEL', 'BGR', 'CYP', 'CZE', 'DEU', 'DNK', 'EST', 'FIN', 'FRA', \n",
    "    'GRC', 'HRV', 'HUN', 'IRL', 'ITA', 'LTU', 'LUX', 'LVA', 'POL', 'PRT', \n",
    "    'ROU', 'SVK', 'SVN', 'ESP', 'SWE'\n",
    "]\n",
    "tourism_data = tourism_data[tourism_data['country_code'].isin(european_union_country_codes)]"
   ]
  },
  {
   "cell_type": "markdown",
   "metadata": {},
   "source": [
    "### Compute Derived Metrics\n",
    "Calculate the **Tourism GDP Percentage** and classify countries with a **High Tourism Impact** based on a threshold. (In this case we will set it to 5)\n",
    "We then remove rows with missing values in the `High_Tourism_Impact` column to ensure clean data."
   ]
  },
  {
   "cell_type": "code",
   "execution_count": 5,
   "metadata": {},
   "outputs": [
    {
     "name": "stderr",
     "output_type": "stream",
     "text": [
      "/Users/ricardofernandes/Library/Python/3.11/lib/python/site-packages/ipykernel/ipkernel.py:283: DeprecationWarning: `should_run_async` will not call `transform_cell` automatically in the future. Please pass the result to `transformed_cell` argument and any exception that happen during thetransform in `preprocessing_exc_tuple` in IPython 7.17 and above.\n",
      "  and should_run_async(code)\n"
     ]
    }
   ],
   "source": [
    "# Calculate Tourism GDP Percentage and High Tourism Impact\n",
    "tourism_data['Tourism_GDP_Percentage'] = (tourism_data['tourism_receipts'] / tourism_data['gdp']) * 100\n",
    "tourism_threshold = 5  # Adjust threshold as needed\n",
    "tourism_data['High_Tourism_Impact'] = tourism_data['Tourism_GDP_Percentage'] > tourism_threshold\n",
    "\n",
    "# Clean the data\n",
    "tourism_data = tourism_data.dropna(subset=['High_Tourism_Impact'])"
   ]
  },
  {
   "cell_type": "markdown",
   "metadata": {},
   "source": [
    "### List Countries with High Tourism Impact\n",
    "Identify unique countries classified as having a high tourism impact."
   ]
  },
  {
   "cell_type": "code",
   "execution_count": 6,
   "metadata": {},
   "outputs": [
    {
     "name": "stdout",
     "output_type": "stream",
     "text": [
      "Countries with High Tourism Impact: ['AUT' 'BGR' 'CYP' 'EST' 'GRC' 'HRV' 'HUN' 'LTU' 'PRT' 'SVN' 'LUX']\n"
     ]
    },
    {
     "name": "stderr",
     "output_type": "stream",
     "text": [
      "/Users/ricardofernandes/Library/Python/3.11/lib/python/site-packages/ipykernel/ipkernel.py:283: DeprecationWarning: `should_run_async` will not call `transform_cell` automatically in the future. Please pass the result to `transformed_cell` argument and any exception that happen during thetransform in `preprocessing_exc_tuple` in IPython 7.17 and above.\n",
      "  and should_run_async(code)\n"
     ]
    }
   ],
   "source": [
    "# List unique countries with 'High_Tourism_Impact'\n",
    "countries_with_high_impact = tourism_data[tourism_data['High_Tourism_Impact']]['country_code'].unique()\n",
    "print(f\"Countries with High Tourism Impact: {countries_with_high_impact}\")"
   ]
  },
  {
   "cell_type": "markdown",
   "metadata": {},
   "source": [
    "## 4. Association Rule Mining\n",
    "### Prepare Data for Association Rule Mining\n",
    "Group the data by `country_code` and `year`, then pivot it to create a Boolean table suitable for the Apriori algorithm."
   ]
  },
  {
   "cell_type": "code",
   "execution_count": 7,
   "metadata": {},
   "outputs": [
    {
     "name": "stderr",
     "output_type": "stream",
     "text": [
      "/Users/ricardofernandes/Library/Python/3.11/lib/python/site-packages/ipykernel/ipkernel.py:283: DeprecationWarning: `should_run_async` will not call `transform_cell` automatically in the future. Please pass the result to `transformed_cell` argument and any exception that happen during thetransform in `preprocessing_exc_tuple` in IPython 7.17 and above.\n",
      "  and should_run_async(code)\n",
      "<ipython-input-7-8a6bbdf748c8>:6: FutureWarning: DataFrame.applymap has been deprecated. Use DataFrame.map instead.\n",
      "  ds_pivot = ds_pivot.applymap(lambda x: bool(x))\n"
     ]
    }
   ],
   "source": [
    "# Group the data by 'country_code' and 'year', and pivot\n",
    "ds_grouped = tourism_data.groupby(['country_code', 'year'], as_index=False).agg({'High_Tourism_Impact': 'any'})\n",
    "ds_pivot = ds_grouped.pivot(index='year', columns='country_code', values='High_Tourism_Impact').fillna(False)\n",
    "\n",
    "# Ensure the pivoted table is Boolean\n",
    "ds_pivot = ds_pivot.applymap(lambda x: bool(x))"
   ]
  },
  {
   "cell_type": "markdown",
   "metadata": {},
   "source": [
    "### Apply the Apriori Algorithm\n",
    "Run the Apriori algorithm on the pivoted dataset to generate frequent itemsets with a minimum support of 0.5."
   ]
  },
  {
   "cell_type": "code",
   "execution_count": 8,
   "metadata": {},
   "outputs": [
    {
     "name": "stdout",
     "output_type": "stream",
     "text": [
      "     support                        itemsets\n",
      "0       0.84                           (BGR)\n",
      "1       0.84                           (CYP)\n",
      "2       0.68                           (EST)\n",
      "3       0.72                           (GRC)\n",
      "4       0.88                           (HRV)\n",
      "..       ...                             ...\n",
      "154     0.52  (CYP, HRV, LUX, BGR, EST, GRC)\n",
      "155     0.52  (CYP, HRV, BGR, EST, SVN, GRC)\n",
      "156     0.52  (CYP, HRV, LUX, BGR, SVN, GRC)\n",
      "157     0.52  (CYP, HRV, BGR, SVN, GRC, PRT)\n",
      "158     0.56  (CYP, HRV, LUX, BGR, SVN, PRT)\n",
      "\n",
      "[159 rows x 2 columns]\n"
     ]
    },
    {
     "name": "stderr",
     "output_type": "stream",
     "text": [
      "/Users/ricardofernandes/Library/Python/3.11/lib/python/site-packages/ipykernel/ipkernel.py:283: DeprecationWarning: `should_run_async` will not call `transform_cell` automatically in the future. Please pass the result to `transformed_cell` argument and any exception that happen during thetransform in `preprocessing_exc_tuple` in IPython 7.17 and above.\n",
      "  and should_run_async(code)\n"
     ]
    }
   ],
   "source": [
    "# Run apriori on the pivoted data\n",
    "min_support = 0.5\n",
    "freq_itemsets = apriori(ds_pivot, min_support=min_support, use_colnames=True)\n",
    "\n",
    "# If no error occurs, print confirmation\n",
    "print(freq_itemsets)"
   ]
  },
  {
   "cell_type": "markdown",
   "metadata": {},
   "source": [
    "### Generate Association Rules\n",
    "Derive association rules from the frequent itemsets using a confidence threshold of 1. Sort and display the top 10 rules by confidence."
   ]
  },
  {
   "cell_type": "code",
   "execution_count": 17,
   "metadata": {},
   "outputs": [
    {
     "name": "stdout",
     "output_type": "stream",
     "text": [
      "Top 10 rules by confidence:\n",
      "              antecedents      consequents  antecedent support  \\\n",
      "0                   (CYP)            (BGR)                0.84   \n",
      "290       (PRT, GRC, BGR)       (CYP, HRV)                0.52   \n",
      "301       (LUX, GRC, SVN)       (CYP, BGR)                0.52   \n",
      "300  (GRC, LUX, BGR, SVN)            (CYP)                0.52   \n",
      "299  (CYP, LUX, GRC, SVN)            (BGR)                0.52   \n",
      "298            (GRC, SVN)  (CYP, HRV, BGR)                0.60   \n",
      "297       (GRC, BGR, SVN)       (CYP, HRV)                0.60   \n",
      "296       (HRV, GRC, SVN)       (CYP, BGR)                0.60   \n",
      "295       (CYP, GRC, SVN)       (HRV, BGR)                0.60   \n",
      "294  (GRC, HRV, BGR, SVN)            (CYP)                0.60   \n",
      "\n",
      "     consequent support  support  confidence      lift  leverage  conviction  \\\n",
      "0                  0.84     0.84         1.0  1.190476    0.1344         inf   \n",
      "290                0.84     0.52         1.0  1.190476    0.0832         inf   \n",
      "301                0.84     0.52         1.0  1.190476    0.0832         inf   \n",
      "300                0.84     0.52         1.0  1.190476    0.0832         inf   \n",
      "299                0.84     0.52         1.0  1.190476    0.0832         inf   \n",
      "298                0.84     0.60         1.0  1.190476    0.0960         inf   \n",
      "297                0.84     0.60         1.0  1.190476    0.0960         inf   \n",
      "296                0.84     0.60         1.0  1.190476    0.0960         inf   \n",
      "295                0.84     0.60         1.0  1.190476    0.0960         inf   \n",
      "294                0.84     0.60         1.0  1.190476    0.0960         inf   \n",
      "\n",
      "     zhangs_metric  \n",
      "0         1.000000  \n",
      "290       0.333333  \n",
      "301       0.333333  \n",
      "300       0.333333  \n",
      "299       0.333333  \n",
      "298       0.400000  \n",
      "297       0.400000  \n",
      "296       0.400000  \n",
      "295       0.400000  \n",
      "294       0.400000  \n"
     ]
    },
    {
     "name": "stderr",
     "output_type": "stream",
     "text": [
      "/Users/ricardofernandes/Library/Python/3.11/lib/python/site-packages/ipykernel/ipkernel.py:283: DeprecationWarning: `should_run_async` will not call `transform_cell` automatically in the future. Please pass the result to `transformed_cell` argument and any exception that happen during thetransform in `preprocessing_exc_tuple` in IPython 7.17 and above.\n",
      "  and should_run_async(code)\n"
     ]
    }
   ],
   "source": [
    "\n",
    "# Number of itemsets\n",
    "num_itemsets = len(freq_itemsets)\n",
    "\n",
    "# Generate association rules\n",
    "rules = association_rules(freq_itemsets, metric=\"confidence\", min_threshold=1)\n",
    "rules = rules.sort_values(by='confidence', ascending=False)\n",
    "\n",
    "# Display the top 10 rules\n",
    "print(\"Top 10 rules by confidence:\")\n",
    "print(rules.head(10))\n"
   ]
  },
  {
   "cell_type": "markdown",
   "metadata": {},
   "source": [
    "### Analyze Specific Antecedent Rules\n",
    "Define a function to filter association rules where a specific country is in the antecedents and extract related consequents."
   ]
  },
  {
   "cell_type": "code",
   "execution_count": 18,
   "metadata": {},
   "outputs": [
    {
     "name": "stdout",
     "output_type": "stream",
     "text": [
      "Countries where the writen code is an antecedent: ['CYP', 'HRV', 'BGR', 'SVN']\n"
     ]
    },
    {
     "name": "stderr",
     "output_type": "stream",
     "text": [
      "/Users/ricardofernandes/Library/Python/3.11/lib/python/site-packages/ipykernel/ipkernel.py:283: DeprecationWarning: `should_run_async` will not call `transform_cell` automatically in the future. Please pass the result to `transformed_cell` argument and any exception that happen during thetransform in `preprocessing_exc_tuple` in IPython 7.17 and above.\n",
      "  and should_run_async(code)\n"
     ]
    }
   ],
   "source": [
    "def get_rules_where_country_is_antecedent(rules, code):\n",
    "    # Filter the rules where Portugal (PRT) is in the antecedents\n",
    "    c_rules = rules[rules['antecedents'].apply(lambda x: code in x)]\n",
    "    \n",
    "    # Extract the consequents of these rules\n",
    "    c_consequents = c_rules['consequents']\n",
    "    \n",
    "    # Flatten the list of consequents and get unique countries\n",
    "    consequent_countries = set()\n",
    "    for consequent in c_consequents:\n",
    "        consequent_countries.update(consequent)  # Adds all countries in the consequent\n",
    "    \n",
    "    # Return the list of unique countries\n",
    "    return list(consequent_countries)\n",
    "\n",
    "# Call the function with the `rules` DataFrame\n",
    "countries_with_antecedent = get_rules_where_country_is_antecedent(rules, 'PRT')\n",
    "\n",
    "# Print the result\n",
    "print(\"Countries where the writen code is an antecedent:\", countries_with_antecedent)\n"
   ]
  }
 ],
 "metadata": {
  "kernelspec": {
   "display_name": "Python 3",
   "language": "python",
   "name": "python3"
  },
  "language_info": {
   "codemirror_mode": {
    "name": "ipython",
    "version": 3
   },
   "file_extension": ".py",
   "mimetype": "text/x-python",
   "name": "python",
   "nbconvert_exporter": "python",
   "pygments_lexer": "ipython3",
   "version": "3.11.6"
  }
 },
 "nbformat": 4,
 "nbformat_minor": 2
}
