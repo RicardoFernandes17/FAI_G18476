{
 "cells": [
  {
   "cell_type": "code",
   "execution_count": 1,
   "metadata": {},
   "outputs": [
    {
     "name": "stdout",
     "output_type": "stream",
     "text": [
      "Requirement already satisfied: pandas in c:\\users\\rdmf1\\appdata\\local\\programs\\python\\python312\\lib\\site-packages (2.2.3)\n",
      "Requirement already satisfied: scikit-learn in c:\\users\\rdmf1\\appdata\\local\\programs\\python\\python312\\lib\\site-packages (1.6.0)\n",
      "Requirement already satisfied: mlxtend in c:\\users\\rdmf1\\appdata\\local\\programs\\python\\python312\\lib\\site-packages (0.23.3)\n",
      "Requirement already satisfied: matplotlib in c:\\users\\rdmf1\\appdata\\local\\programs\\python\\python312\\lib\\site-packages (3.10.0)\n",
      "Requirement already satisfied: numpy>=1.26.0 in c:\\users\\rdmf1\\appdata\\local\\programs\\python\\python312\\lib\\site-packages (from pandas) (2.2.1)\n",
      "Requirement already satisfied: python-dateutil>=2.8.2 in c:\\users\\rdmf1\\appdata\\roaming\\python\\python312\\site-packages (from pandas) (2.9.0.post0)\n",
      "Requirement already satisfied: pytz>=2020.1 in c:\\users\\rdmf1\\appdata\\local\\programs\\python\\python312\\lib\\site-packages (from pandas) (2024.2)\n",
      "Requirement already satisfied: tzdata>=2022.7 in c:\\users\\rdmf1\\appdata\\local\\programs\\python\\python312\\lib\\site-packages (from pandas) (2024.2)\n",
      "Requirement already satisfied: scipy>=1.6.0 in c:\\users\\rdmf1\\appdata\\local\\programs\\python\\python312\\lib\\site-packages (from scikit-learn) (1.15.0)\n",
      "Requirement already satisfied: joblib>=1.2.0 in c:\\users\\rdmf1\\appdata\\local\\programs\\python\\python312\\lib\\site-packages (from scikit-learn) (1.4.2)\n",
      "Requirement already satisfied: threadpoolctl>=3.1.0 in c:\\users\\rdmf1\\appdata\\local\\programs\\python\\python312\\lib\\site-packages (from scikit-learn) (3.5.0)\n",
      "Requirement already satisfied: contourpy>=1.0.1 in c:\\users\\rdmf1\\appdata\\local\\programs\\python\\python312\\lib\\site-packages (from matplotlib) (1.3.1)\n",
      "Requirement already satisfied: cycler>=0.10 in c:\\users\\rdmf1\\appdata\\local\\programs\\python\\python312\\lib\\site-packages (from matplotlib) (0.12.1)\n",
      "Requirement already satisfied: fonttools>=4.22.0 in c:\\users\\rdmf1\\appdata\\local\\programs\\python\\python312\\lib\\site-packages (from matplotlib) (4.55.3)\n",
      "Requirement already satisfied: kiwisolver>=1.3.1 in c:\\users\\rdmf1\\appdata\\local\\programs\\python\\python312\\lib\\site-packages (from matplotlib) (1.4.8)\n",
      "Requirement already satisfied: packaging>=20.0 in c:\\users\\rdmf1\\appdata\\roaming\\python\\python312\\site-packages (from matplotlib) (24.0)\n",
      "Requirement already satisfied: pillow>=8 in c:\\users\\rdmf1\\appdata\\local\\programs\\python\\python312\\lib\\site-packages (from matplotlib) (11.1.0)\n",
      "Requirement already satisfied: pyparsing>=2.3.1 in c:\\users\\rdmf1\\appdata\\local\\programs\\python\\python312\\lib\\site-packages (from matplotlib) (3.2.1)\n",
      "Requirement already satisfied: six>=1.5 in c:\\users\\rdmf1\\appdata\\roaming\\python\\python312\\site-packages (from python-dateutil>=2.8.2->pandas) (1.16.0)\n",
      "Note: you may need to restart the kernel to use updated packages.\n"
     ]
    },
    {
     "name": "stderr",
     "output_type": "stream",
     "text": [
      "\n",
      "[notice] A new release of pip is available: 24.0 -> 24.3.1\n",
      "[notice] To update, run: python.exe -m pip install --upgrade pip\n"
     ]
    }
   ],
   "source": [
    "%pip install pandas scikit-learn mlxtend matplotlib"
   ]
  },
  {
   "cell_type": "code",
   "execution_count": null,
   "metadata": {},
   "outputs": [
    {
     "name": "stderr",
     "output_type": "stream",
     "text": [
      "C:\\Users\\rdmf1\\AppData\\Local\\Temp\\ipykernel_15528\\3140613834.py:32: FutureWarning: DataFrame.applymap has been deprecated. Use DataFrame.map instead.\n",
      "  ds_pivot = ds_pivot.applymap(lambda x: bool(x))\n"
     ]
    },
    {
     "name": "stdout",
     "output_type": "stream",
     "text": [
      "        support                                           itemsets\n",
      "0          0.88                                              (ALB)\n",
      "1          0.04                                              (AND)\n",
      "2          0.56                                              (ARM)\n",
      "3          0.48                                              (AUT)\n",
      "4          0.84                                              (BGR)\n",
      "...         ...                                                ...\n",
      "133626     0.04  (ARM, AND, PRT, ALB, BGR, GRC, CYP, HRV, HUN, ...\n",
      "133627     0.04  (AND, PRT, ALB, BGR, GRC, CYP, HRV, HUN, MNE, ...\n",
      "133628     0.04  (ARM, PRT, ALB, BGR, GRC, CYP, HRV, HUN, MNE, ...\n",
      "133629     0.04  (ARM, AND, PRT, GRC, BGR, CYP, HRV, HUN, MNE, ...\n",
      "133630     0.04  (ARM, AND, PRT, ALB, BGR, GRC, CYP, HRV, HUN, ...\n",
      "\n",
      "[133631 rows x 2 columns]\n"
     ]
    }
   ],
   "source": [
    "import pandas as pd\n",
    "from mlxtend.frequent_patterns import apriori, association_rules\n",
    "from scipy.sparse import csr_matrix\n",
    "\n",
    "# Load the dataset\n",
    "file_path = 'world_tourism_economy_data.csv'  # Replace with the actual path\n",
    "tourism_data = pd.read_csv(file_path)\n",
    "\n",
    "european_country_codes = [\n",
    "    'ALB', 'AND', 'ARM', 'AUT', 'BEL', 'BGR', 'BIH', 'BLR', 'BUL', 'CHE', \n",
    "    'CYP', 'CZE', 'DEU', 'DNK', 'EST', 'FIN', 'FRA', 'GEO', 'GRC', 'HRV', \n",
    "    'HUN', 'IRL', 'ISL', 'ISR', 'ITA', 'KOS', 'LTU', 'LUX', 'LVA', 'MDA', \n",
    "    'MNE', 'NLD', 'NOR', 'POL', 'PRT', 'ROU', 'RUS', 'SVK', 'SVN', 'ESP', \n",
    "    'SWE', 'TUR', 'UKR', 'GBR'\n",
    "]\n",
    "tourism_data = tourism_data[tourism_data['country_code'].isin(european_country_codes)]\n",
    "\n",
    "\n",
    "# Calculate Tourism GDP Percentage and High Tourism Impact\n",
    "tourism_data['Tourism_GDP_Percentage'] = (tourism_data['tourism_receipts'] / tourism_data['gdp']) * 100\n",
    "tourism_threshold = 5  # Adjust threshold as needed\n",
    "tourism_data['High_Tourism_Impact'] = tourism_data['Tourism_GDP_Percentage'] > tourism_threshold\n",
    "\n",
    "# Clean the data\n",
    "tourism_data = tourism_data.dropna(subset=['High_Tourism_Impact'])\n",
    "\n",
    "# Group the data by 'country_code' and 'year', and pivot\n",
    "ds_grouped = tourism_data.groupby(['country_code', 'year'], as_index=False).agg({'High_Tourism_Impact': 'any'})\n",
    "ds_pivot = ds_grouped.pivot(index='year', columns='country_code', values='High_Tourism_Impact').fillna(False)\n",
    "\n",
    "# Ensure the pivoted table is Boolean\n",
    "ds_pivot = ds_pivot.applymap(lambda x: bool(x))\n",
    "\n",
    "# Run apriori on the pivoted data\n",
    "min_support = 0.01\n",
    "\n",
    "freq_itemsets = apriori(ds_pivot, min_support=min_support, use_colnames=True)\n",
    "\n",
    "# If no error occurs, print confirmation\n",
    "print(freq_itemsets)\n",
    "\n",
    "# Number of itemsets\n",
    "num_itemsets = len(freq_itemsets)\n",
    "\n",
    "# Generate association rules\n",
    "rules = association_rules(freq_itemsets, metric=\"confidence\", min_threshold=0.7, num_itemsets=num_itemsets)\n",
    "rules = rules.sort_values(by='confidence', ascending=False)\n",
    "\n",
    "# Display the top 10 rules\n",
    "print(\"Top 10 rules by confidence:\")\n",
    "print(rules.head(10))\n",
    "\n",
    "# List unique countries with 'High_Tourism_Impact'\n",
    "countries_with_high_impact = tourism_data[tourism_data['High_Tourism_Impact']]['country_code'].unique()\n",
    "print(f\"Countries with High Tourism Impact: {countries_with_high_impact}\")\n"
   ]
  }
 ],
 "metadata": {
  "kernelspec": {
   "display_name": "Python 3",
   "language": "python",
   "name": "python3"
  },
  "language_info": {
   "codemirror_mode": {
    "name": "ipython",
    "version": 3
   },
   "file_extension": ".py",
   "mimetype": "text/x-python",
   "name": "python",
   "nbconvert_exporter": "python",
   "pygments_lexer": "ipython3",
   "version": "3.12.2"
  }
 },
 "nbformat": 4,
 "nbformat_minor": 2
}
