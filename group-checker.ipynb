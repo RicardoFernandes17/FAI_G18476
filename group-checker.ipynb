{
 "cells": [
  {
   "cell_type": "code",
   "execution_count": 16,
   "metadata": {},
   "outputs": [
    {
     "name": "stdout",
     "output_type": "stream",
     "text": [
      "      Age  JobLevel  YearsAtCompany  Education  GroupCount  AttritionYesCount  \\\n",
      "900    45         5              24          3           2                  1   \n",
      "51     24         1               6          3           2                  1   \n",
      "917    46         3               9          2           2                  1   \n",
      "16     21         1               3          1           2                  1   \n",
      "37     23         1               3          3           2                  1   \n",
      "...   ...       ...             ...        ...         ...                ...   \n",
      "1148   59         1               1          3           2                  0   \n",
      "1146   58         5               9          3           1                  0   \n",
      "1145   58         4              37          4           1                  0   \n",
      "1144   58         4              16          3           1                  0   \n",
      "1129   56         5               5          4           1                  0   \n",
      "\n",
      "      AttritionPercentage  \n",
      "900                  50.0  \n",
      "51                   50.0  \n",
      "917                  50.0  \n",
      "16                   50.0  \n",
      "37                   50.0  \n",
      "...                   ...  \n",
      "1148                  0.0  \n",
      "1146                  0.0  \n",
      "1145                  0.0  \n",
      "1144                  0.0  \n",
      "1129                  0.0  \n",
      "\n",
      "[1015 rows x 7 columns]\n"
     ]
    }
   ],
   "source": [
    "# Reloading the dataset\n",
    "file_path = 'WA_Fn-UseC_-HR-Employee-Attrition.csv'\n",
    "data = pd.read_csv(file_path)\n",
    "pd.set_option('display.max_rows', 25);\n",
    "pd.set_option('display.max_columns', 25); \n",
    "\n",
    "# Group by selected features to identify patterns\n",
    "grouped = data.groupby(['Age', 'JobLevel', 'YearsAtCompany', 'Education'])\n",
    "\n",
    "# Calculate the total count of rows in each group\n",
    "group_summary = grouped.size().reset_index(name='GroupCount')\n",
    "\n",
    "# Calculate the count of Attrition = 'Yes' in each group\n",
    "attrition_count = grouped['Attrition'].apply(lambda x: (x == 'Yes').sum()).reset_index(name='AttritionYesCount')\n",
    "\n",
    "# Merge the group summaries with attrition counts\n",
    "result = pd.merge(group_summary, attrition_count, on=['Age', 'JobLevel', 'YearsAtCompany', 'Education'])\n",
    "\n",
    "# Calculate the percentage of Attrition = 'Yes' within each group\n",
    "result['AttritionPercentage'] = (result['AttritionYesCount'] / result['GroupCount']) * 100\n",
    "\n",
    "# Sort by highest attrition percentage\n",
    "result = result.sort_values('AttritionPercentage', ascending=False)\n",
    "result = result[result['AttritionPercentage'] <= 50]\n",
    "\n",
    "# Display the top results\n",
    "print(result)"
   ]
  }
 ],
 "metadata": {
  "kernelspec": {
   "display_name": "Python 3",
   "language": "python",
   "name": "python3"
  },
  "language_info": {
   "codemirror_mode": {
    "name": "ipython",
    "version": 3
   },
   "file_extension": ".py",
   "mimetype": "text/x-python",
   "name": "python",
   "nbconvert_exporter": "python",
   "pygments_lexer": "ipython3",
   "version": "3.12.2"
  }
 },
 "nbformat": 4,
 "nbformat_minor": 2
}
